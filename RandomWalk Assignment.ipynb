{
 "cells": [
  {
   "cell_type": "markdown",
   "id": "44aa8503",
   "metadata": {},
   "source": [
    "# Random Walk Assignment"
   ]
  },
  {
   "cell_type": "code",
   "execution_count": 1,
   "id": "baaca236",
   "metadata": {},
   "outputs": [
    {
     "name": "stdout",
     "output_type": "stream",
     "text": [
      "Requirement already satisfied: pandas in /Library/Frameworks/Python.framework/Versions/3.10/lib/python3.10/site-packages (1.4.2)\n",
      "Requirement already satisfied: python-dateutil>=2.8.1 in /Library/Frameworks/Python.framework/Versions/3.10/lib/python3.10/site-packages (from pandas) (2.8.2)\n",
      "Requirement already satisfied: pytz>=2020.1 in /Library/Frameworks/Python.framework/Versions/3.10/lib/python3.10/site-packages (from pandas) (2022.1)\n",
      "Requirement already satisfied: numpy>=1.21.0 in /Library/Frameworks/Python.framework/Versions/3.10/lib/python3.10/site-packages (from pandas) (1.22.1)\n",
      "Requirement already satisfied: six>=1.5 in /Library/Frameworks/Python.framework/Versions/3.10/lib/python3.10/site-packages (from python-dateutil>=2.8.1->pandas) (1.16.0)\n"
     ]
    }
   ],
   "source": [
    "!pip install pandas\n",
    "import pandas as pd"
   ]
  },
  {
   "cell_type": "code",
   "execution_count": 2,
   "id": "d6653d60",
   "metadata": {},
   "outputs": [],
   "source": [
    "# Load the dataset\n",
    "books_data = pd.read_csv('/Users/rajkumarmahatha/rw/randomwalk-ds-assessment/books.csv')"
   ]
  },
  {
   "cell_type": "code",
   "execution_count": 3,
   "id": "742cfcfc",
   "metadata": {},
   "outputs": [
    {
     "name": "stdout",
     "output_type": "stream",
     "text": [
      "   book_id  goodreads_book_id  best_book_id  work_id  books_count        isbn  \\\n",
      "0       15              48855         48855  3532896          710   553296981   \n",
      "1       40              19501         19501  3352398          185   143038419   \n",
      "2       81               7445          7445  2944133           92  074324754X   \n",
      "3       82               1845          1845  3284484          108   385486804   \n",
      "4       87               1617          1617   265616          109   374500010   \n",
      "\n",
      "         isbn13                                            authors  \\\n",
      "0  9.780553e+12  Anne Frank, Eleanor Roosevelt, B.M. Mooyaart-D...   \n",
      "1  9.780143e+12                                  Elizabeth Gilbert   \n",
      "2  9.780743e+12                                    Jeannette Walls   \n",
      "3  9.780385e+12                                       Jon Krakauer   \n",
      "4  9.780375e+12                         Elie Wiesel, Marion Wiesel   \n",
      "\n",
      "   original_publication_year  \\\n",
      "0                     1947.0   \n",
      "1                     2006.0   \n",
      "2                     2005.0   \n",
      "3                     1996.0   \n",
      "4                     1958.0   \n",
      "\n",
      "                                      original_title  ... work_ratings_count  \\\n",
      "0  Het Achterhuis: Dagboekbrieven 14 juni 1942 - ...  ...            2024493   \n",
      "1  Eat, pray, love: one woman's search for everyt...  ...            1206597   \n",
      "2                                   The Glass Castle  ...             637866   \n",
      "3                                      Into the Wild  ...             665377   \n",
      "4                            Un di Velt Hot Geshvign  ...             707879   \n",
      "\n",
      "  work_text_reviews_count  ratings_1  ratings_2  ratings_3  ratings_4  \\\n",
      "0                   20825      45225      91270     355756     656870   \n",
      "1                   49714     100373     149549     310212     332191   \n",
      "2                   40777       7901      18922      85191     227750   \n",
      "3                   17299      19229      35567     135199     248287   \n",
      "4                   22001       7761      18539      90575     230227   \n",
      "\n",
      "   ratings_5                                          image_url  \\\n",
      "0     875372  https://images.gr-assets.com/books/1358276407m...   \n",
      "1     314272  https://images.gr-assets.com/books/1503066414m...   \n",
      "2     298102  https://images.gr-assets.com/books/1400930557m...   \n",
      "3     227095  https://images.gr-assets.com/books/1403173986m...   \n",
      "4     360777  https://images.gr-assets.com/books/1473495285m...   \n",
      "\n",
      "                                     small_image_url  NonEnglish  \n",
      "0  https://images.gr-assets.com/books/1358276407s...           0  \n",
      "1  https://images.gr-assets.com/books/1503066414s...           0  \n",
      "2  https://images.gr-assets.com/books/1400930557s...           0  \n",
      "3  https://images.gr-assets.com/books/1403173986s...           0  \n",
      "4  https://images.gr-assets.com/books/1473495285s...           0  \n",
      "\n",
      "[5 rows x 24 columns]\n"
     ]
    }
   ],
   "source": [
    "# Print the first 5 lines\n",
    "print(books_data.head())"
   ]
  },
  {
   "cell_type": "code",
   "execution_count": 4,
   "id": "416ed890",
   "metadata": {},
   "outputs": [
    {
     "name": "stdout",
     "output_type": "stream",
     "text": [
      "Answer: There are 399 rows and 24 columns in the dataset.\n"
     ]
    }
   ],
   "source": [
    "# Q1) Get number of rows and columns\n",
    "\n",
    "rows, columns = books_data.shape\n",
    "print(f\"Answer: There are {rows} rows and {columns} columns in the dataset.\")"
   ]
  },
  {
   "cell_type": "code",
   "execution_count": 5,
   "id": "b9dec6ca",
   "metadata": {},
   "outputs": [
    {
     "name": "stdout",
     "output_type": "stream",
     "text": [
      "Answer: There are 36 books without an original title.\n"
     ]
    }
   ],
   "source": [
    "# Q2) Count books without an original title\n",
    "\n",
    "books_without_title = books_data['original_title'].isnull().sum()\n",
    "print(f\"Answer: There are {books_without_title} books without an original title.\")"
   ]
  },
  {
   "cell_type": "code",
   "execution_count": 6,
   "id": "c8c9da24",
   "metadata": {},
   "outputs": [
    {
     "name": "stdout",
     "output_type": "stream",
     "text": [
      "Answer: There are 363 unique books in the dataset.\n"
     ]
    }
   ],
   "source": [
    "# Q3) Count unique books based on 'book_id' after removing null values in 'original_title' column\n",
    "\n",
    "unique_books = books_data['original_title'].dropna().nunique()\n",
    "print(f\"Answer: There are {unique_books} unique books in the dataset.\")"
   ]
  },
  {
   "cell_type": "code",
   "execution_count": 7,
   "id": "5bc23060",
   "metadata": {},
   "outputs": [
    {
     "name": "stdout",
     "output_type": "stream",
     "text": [
      "Answer: The average rating of all books is 3.98.\n"
     ]
    }
   ],
   "source": [
    "# Q4) Calculate the average rating of all books based on 'average_rating'\n",
    "\n",
    "average_rating = books_data['average_rating'].mean()\n",
    "print(f\"Answer: The average rating of all books is {average_rating:.2f}.\")"
   ]
  },
  {
   "cell_type": "code",
   "execution_count": 8,
   "id": "c7b7610d",
   "metadata": {},
   "outputs": [
    {
     "name": "stdout",
     "output_type": "stream",
     "text": [
      "Answer: The number of books published in the year 2000 is 8.\n"
     ]
    }
   ],
   "source": [
    "# Q5) Find the number of books published in the year '2000'\n",
    "\n",
    "books_published_2000 = books_data[books_data['original_publication_year'] == 2000].shape[0]\n",
    "print(f\"Answer: The number of books published in the year 2000 is {books_published_2000}.\")"
   ]
  },
  {
   "cell_type": "code",
   "execution_count": 9,
   "id": "fcec2f16",
   "metadata": {},
   "outputs": [
    {
     "name": "stdout",
     "output_type": "stream",
     "text": [
      "Answer: The book with the maximum number of ratings is 'The Diary of a Young Girl'.\n"
     ]
    }
   ],
   "source": [
    "# Q6) Find the book with the maximum number of ratings based on 'work_ratings_count'\n",
    "\n",
    "max_ratings_book = books_data.loc[books_data['work_ratings_count'].idxmax()]['title']\n",
    "print(f\"Answer: The book with the maximum number of ratings is '{max_ratings_book}'.\")"
   ]
  },
  {
   "cell_type": "code",
   "execution_count": 10,
   "id": "444dc2b9",
   "metadata": {},
   "outputs": [],
   "source": [
    "# Q7) Bucket average_rating into 11 categories and plot a bar graph\n",
    "\n",
    "rating_buckets = [0, 0.5, 1.0, 1.5, 2.0, 2.5, 3.0, 3.5, 4.0, 4.5, 5.0]\n",
    "\n",
    "books_data['rating_bucket'] = pd.cut(books_data['average_rating'], bins=rating_buckets)\n",
    "\n",
    "bucket_counts = books_data['rating_bucket'].value_counts().sort_index()"
   ]
  },
  {
   "cell_type": "code",
   "execution_count": 11,
   "id": "faacfe7a",
   "metadata": {},
   "outputs": [
    {
     "data": {
      "image/png": "[encoded data removed]",
      "text/plain": [
       "<Figure size 640x480 with 1 Axes>"
      ]
     },
     "metadata": {},
     "output_type": "display_data"
    }
   ],
   "source": [
    "# Plotting the bar graph\n",
    "import matplotlib.pyplot as plt\n",
    "\n",
    "plt.bar(bucket_counts.index.astype(str), bucket_counts.values)\n",
    "plt.xlabel('Rating Buckets')\n",
    "plt.ylabel('Number of Books')\n",
    "plt.title('Number of Books in Each Rating Bucket')\n",
    "plt.xticks(rotation=45)\n",
    "plt.tight_layout()\n",
    "plt.show()"
   ]
  },
  {
   "cell_type": "code",
   "execution_count": null,
   "id": "7819c2f5",
   "metadata": {},
   "outputs": [],
   "source": []
  }
 ],
 "metadata": {
  "kernelspec": {
   "display_name": "Python 3 (ipykernel)",
   "language": "python",
   "name": "python3"
  },
  "language_info": {
   "codemirror_mode": {
    "name": "ipython",
    "version": 3
   },
   "file_extension": ".py",
   "mimetype": "text/x-python",
   "name": "python",
   "nbconvert_exporter": "python",
   "pygments_lexer": "ipython3",
   "version": "3.10.5"
  }
 },
 "nbformat": 4,
 "nbformat_minor": 5
}
